{
 "cells": [
  {
   "cell_type": "markdown",
   "id": "f2d2a25e-72cd-4912-8c6a-6ce371aba5b3",
   "metadata": {},
   "source": [
    "# How to Build a Neural Network & Make Predictions\n",
    "\n",
    "(https://realpython.com/python-ai-neural-network/#train-your-first-neural-network)"
   ]
  },
  {
   "cell_type": "markdown",
   "id": "d74a981d-e30c-454e-ac5e-3d64ac2db401",
   "metadata": {},
   "source": [
    "## Dot Product"
   ]
  },
  {
   "cell_type": "code",
   "execution_count": 8,
   "id": "30e22a1c-4176-4e53-8fb0-d9bd79f9bcaa",
   "metadata": {
    "tags": []
   },
   "outputs": [],
   "source": [
    "# Find which of the weights is more similar to the input vector, \n",
    "# taking into account the direction and the magnitude.\n",
    "input_vector = [1.72, 1.23]\n",
    "weights_1 = [1.26, 0]\n",
    "weights_2 = [2.17, 0.32]"
   ]
  },
  {
   "cell_type": "code",
   "execution_count": 9,
   "id": "4e907158-9d4b-481c-aa50-eea5d6d2a9ca",
   "metadata": {
    "tags": []
   },
   "outputs": [
    {
     "data": {
      "text/plain": [
       "2.1672"
      ]
     },
     "execution_count": 9,
     "metadata": {},
     "output_type": "execute_result"
    }
   ],
   "source": [
    "# Manually compute dot product\n",
    "dot_prod_1 = input_vector[0] * weights_1[0] + input_vector[1] * weights_1[1]\n",
    "dot_prod_1"
   ]
  },
  {
   "cell_type": "code",
   "execution_count": 1,
   "id": "43405600-0dac-4a3f-9690-e2212d81e694",
   "metadata": {
    "tags": []
   },
   "outputs": [],
   "source": [
    "import numpy as np"
   ]
  },
  {
   "cell_type": "code",
   "execution_count": 10,
   "id": "fdbada75-ba0d-4207-919e-19db3a262f7d",
   "metadata": {
    "tags": []
   },
   "outputs": [
    {
     "data": {
      "text/plain": [
       "2.1672"
      ]
     },
     "execution_count": 10,
     "metadata": {},
     "output_type": "execute_result"
    }
   ],
   "source": [
    "# Use NumPy to compute dot product\n",
    "dot_prod_1 = np.dot(input_vector, weights_1)\n",
    "dot_prod_1"
   ]
  },
  {
   "cell_type": "code",
   "execution_count": 11,
   "id": "f8c3b987-eaad-45aa-a3c5-bf1d4f38a322",
   "metadata": {
    "tags": []
   },
   "outputs": [
    {
     "data": {
      "text/plain": [
       "4.1259999999999994"
      ]
     },
     "execution_count": 11,
     "metadata": {},
     "output_type": "execute_result"
    }
   ],
   "source": [
    "dot_prod_2 = np.dot(input_vector, weights_2)\n",
    "dot_prod_2"
   ]
  },
  {
   "cell_type": "markdown",
   "id": "a31fc234-c081-4043-a69a-3396a5b69594",
   "metadata": {
    "tags": []
   },
   "source": [
    "## Build Neural Network with Classification Problem Example\n",
    "\n",
    "Make predictions. The result can be either 0 or 1.\n",
    "\n",
    "Inputs and outputs of the dataset:\n",
    "\n",
    "|input vector|target|\n",
    "|-|-|\n",
    "|[1.66, 1.56]|1|\n",
    "|[2, 1.5]|0|\n"
   ]
  },
  {
   "cell_type": "code",
   "execution_count": 6,
   "id": "43601efd-f496-46b8-8305-b46a15b0d0f3",
   "metadata": {
    "tags": []
   },
   "outputs": [],
   "source": [
    "input_vector = np.array([1.66, 1.56])  # example data\n",
    "weights_1 = np.array([1.45, -0.66])  # random weights\n",
    "bias = np.array([0.0])  # random bias"
   ]
  },
  {
   "cell_type": "code",
   "execution_count": 7,
   "id": "3c88bd32-6fc8-4573-a34b-ff132cc61a45",
   "metadata": {
    "tags": []
   },
   "outputs": [],
   "source": [
    "# Sigmoid function limits the output to a range between 0 and 1\n",
    "def sigmoid(x): \n",
    "    return 1 / (1 + np.exp(-x))"
   ]
  },
  {
   "cell_type": "code",
   "execution_count": 8,
   "id": "cd2ead9e-e318-49a3-8052-5fda91aeb111",
   "metadata": {
    "tags": []
   },
   "outputs": [],
   "source": [
    "def predict(input_vector, weights, bias): \n",
    "    layer_1 = np.dot(input_vector, weights) + bias\n",
    "    layer_2 = sigmoid(layer_1)\n",
    "    return layer_2"
   ]
  },
  {
   "cell_type": "code",
   "execution_count": 9,
   "id": "e2d77bbf-c071-4d66-86f8-cf854412e2e1",
   "metadata": {
    "tags": []
   },
   "outputs": [
    {
     "data": {
      "text/plain": [
       "array([0.7985731])"
      ]
     },
     "execution_count": 9,
     "metadata": {},
     "output_type": "execute_result"
    }
   ],
   "source": [
    "prediction = predict(input_vector, weights_1, bias)\n",
    "prediction\n",
    "# The result is > 0.5, correct prediction"
   ]
  },
  {
   "cell_type": "code",
   "execution_count": 10,
   "id": "49e6c6bc-8536-4804-b9a6-1bd5a8c0aaa0",
   "metadata": {
    "tags": []
   },
   "outputs": [
    {
     "data": {
      "text/plain": [
       "array([0.87101915])"
      ]
     },
     "execution_count": 10,
     "metadata": {},
     "output_type": "execute_result"
    }
   ],
   "source": [
    "input_vector_2 = np.array([2, 1.5])\n",
    "prediction_2 = predict(input_vector_2, weights_1, bias)\n",
    "prediction_2\n",
    "# The result is > 0.5, wrong prediction"
   ]
  },
  {
   "cell_type": "markdown",
   "id": "def40f4d-ebb5-42f9-9d2e-520e984a943e",
   "metadata": {
    "tags": []
   },
   "source": [
    "## Train Neural Network\n",
    "\n",
    "### Computing the Prediction Error"
   ]
  },
  {
   "cell_type": "code",
   "execution_count": 11,
   "id": "d1d80c73-f305-4920-9546-d1cbe650451e",
   "metadata": {
    "tags": []
   },
   "outputs": [
    {
     "data": {
      "text/plain": [
       "array([0.75867436])"
      ]
     },
     "execution_count": 11,
     "metadata": {},
     "output_type": "execute_result"
    }
   ],
   "source": [
    "# Access how bad the wrong prediction was\n",
    "# using Mean Squared Error (MSE)\n",
    "target = 0\n",
    "mse = np.square(prediction_2 - target)\n",
    "mse"
   ]
  },
  {
   "cell_type": "markdown",
   "id": "675bbaf6-32fc-41b5-bed1-bd5f3c5b39e0",
   "metadata": {},
   "source": [
    "### Understanding How to Reduce the Error"
   ]
  },
  {
   "cell_type": "code",
   "execution_count": 12,
   "id": "291e4e67-83dc-4e81-975c-ce59daa8145d",
   "metadata": {
    "tags": []
   },
   "outputs": [
    {
     "data": {
      "text/plain": [
       "array([1.7420383])"
      ]
     },
     "execution_count": 12,
     "metadata": {},
     "output_type": "execute_result"
    }
   ],
   "source": [
    "# The derivative of np.square(x) is 2 * x\n",
    "derivative = 2 * (prediction_2 - target)\n",
    "derivative\n",
    "# The result is 1.74, a positive number, \n",
    "# so you need to decrease the weights."
   ]
  },
  {
   "cell_type": "code",
   "execution_count": 13,
   "id": "3248d312-4847-4ec6-9e2a-893dd87229b6",
   "metadata": {
    "tags": []
   },
   "outputs": [
    {
     "data": {
      "text/plain": [
       "array([0.01431593])"
      ]
     },
     "execution_count": 13,
     "metadata": {},
     "output_type": "execute_result"
    }
   ],
   "source": [
    "# Update the weights \n",
    "weights_1_updated = weights_1 - derivative\n",
    "\n",
    "# Predict again\n",
    "prediction_2_updated = predict(input_vector, weights_1_updated, bias)\n",
    "prediction_2_updated\n",
    "# After updating the weights, the prediction is close to 0, which is more as the same as target"
   ]
  },
  {
   "cell_type": "code",
   "execution_count": 14,
   "id": "87538ad9-c64e-44ad-abb4-a398a4d203d9",
   "metadata": {
    "tags": []
   },
   "outputs": [
    {
     "data": {
      "text/plain": [
       "array([0.00020495])"
      ]
     },
     "execution_count": 14,
     "metadata": {},
     "output_type": "execute_result"
    }
   ],
   "source": [
    "mse_updated = np.square(prediction_2_updated - target)\n",
    "mse_updated\n",
    "# After updating the weights, the mse is very small now"
   ]
  },
  {
   "cell_type": "markdown",
   "id": "24da0173-aec8-458f-87fd-55551700aca0",
   "metadata": {},
   "source": [
    "### Adjusting the Parameters With Backpropagation"
   ]
  },
  {
   "cell_type": "code",
   "execution_count": 15,
   "id": "56ef98e9-9904-48b8-8d9b-8e13adc8c3fd",
   "metadata": {},
   "outputs": [],
   "source": [
    "def sigmoid_deriv(x):\n",
    "    return sigmoid(x) * (1 - sigmoid(x))"
   ]
  },
  {
   "cell_type": "code",
   "execution_count": 16,
   "id": "f8d199b5-9e28-4df0-892f-3ac936f77da4",
   "metadata": {},
   "outputs": [],
   "source": [
    "# Applying chain rule, backpropagation\n",
    "derror_dprediction = 2 * (prediction_2 - target)\n",
    "\n",
    "layer_1 = np.dot(input_vector, weights_1) + bias\n",
    "dprediction_dlayer1 = sigmoid_deriv(layer_1)\n",
    "\n",
    "dlayer1_dbias = 1\n",
    "\n",
    "derror_dbias = derror_dprediction * dprediction_dlayer1 * dlayer1_dbias\n",
    "derror_dbias"
   ]
  },
  {
   "cell_type": "markdown",
   "id": "335aa55d-ac60-470a-83e8-dbce5db6e6d4",
   "metadata": {},
   "source": [
    "### Creating the Neural Network Class"
   ]
  },
  {
   "cell_type": "code",
   "execution_count": 6,
   "id": "dd95b6ee-26ad-4fda-be8a-d03b20e0e103",
   "metadata": {},
   "outputs": [],
   "source": [
    "class MyNeuralNetwork: \n",
    "    def __init__(self, learning_rate): \n",
    "        self.weights = np.array([np.random.randn(), np.random.randn()])\n",
    "        self.bias = np.random.randn()\n",
    "        self.learning_rate = learning_rate\n",
    "        \n",
    "    def _sigmoid(self, x): \n",
    "        return 1 / (1 + np.exp(-x))\n",
    "\n",
    "    def _sigmoid_deriv(self, x):\n",
    "        return self._sigmoid(x) * (1 - self._sigmoid(x))\n",
    "    \n",
    "    def predict(self, input_vector): \n",
    "        layer_1 = np.dot(input_vector, self.weights) + self.bias\n",
    "        layer_2 = self._sigmoid(layer_1)\n",
    "        return layer_2\n",
    "    \n",
    "    def _compute_gradients(self, input_vector, target): \n",
    "        prediction = self.predict(input_vector)\n",
    "        \n",
    "        derror_dprediction = 2 * (prediction - target)\n",
    "\n",
    "        layer_1 = np.dot(input_vector, self.weights) + self.bias\n",
    "        dprediction_dlayer1 = self._sigmoid_deriv(layer_1)\n",
    "\n",
    "        dlayer1_dbias = 1\n",
    "        \n",
    "        # The derivative of the dot product is \n",
    "        # the derivative of the first vector multiplied by the second vector, \n",
    "        # plus the derivative of the second vector multiplied by the first vector\n",
    "        dlayer1_dweights = 0 * self.weights + 1 * input_vector\n",
    "\n",
    "        derror_dbias = derror_dprediction * dprediction_dlayer1 * dlayer1_dbias\n",
    "        derror_dweights = derror_dprediction * dprediction_dlayer1 * dlayer1_dweights\n",
    "        \n",
    "        return derror_dbias, derror_dweights\n",
    "    \n",
    "    def _update_parameters(self, derror_dbias, derror_dweights): \n",
    "        self.bias = self.bias - derror_dbias * self.learning_rate\n",
    "        self.weights = self.weights - derror_dweights * self.learning_rate\n",
    "\n",
    "    def train(self, input_vectors, targets, iterations): \n",
    "        # Used to save cumulative errors, and then plot\n",
    "        cumulative_errors = []\n",
    "        \n",
    "        for curr_iter in range(iterations): \n",
    "            random_data_index = np.random.randint(len(input_vectors))\n",
    "            \n",
    "            # Pick a data instance at random\n",
    "            input_vector = input_vectors[random_data_index]\n",
    "            target = targets[random_data_index]\n",
    "            \n",
    "            # Compute the gradients and update the parameters\n",
    "            derror_dbias, derror_dweights = self._compute_gradients(input_vector, target)\n",
    "            self._update_parameters(derror_dbias, derror_dweights)\n",
    "            \n",
    "            # Measure the cumulative error over all data instances every 100 iterations\n",
    "            if curr_iter % 100 == 0:\n",
    "                cumulative_error = 0\n",
    "                \n",
    "                for data_instance_index in range(len(input_vectors)):\n",
    "                    data_instance = input_vectors[data_instance_index]\n",
    "                    target = targets[data_instance_index]\n",
    "                    \n",
    "                    prediction = self.predict(data_instance)\n",
    "                    error = np.square(prediction - target)\n",
    "                    \n",
    "                    cumulative_error = cumulative_error + error\n",
    "                    \n",
    "                cumulative_errors.append(cumulative_error)\n",
    "            \n",
    "        return cumulative_errors"
   ]
  },
  {
   "cell_type": "code",
   "execution_count": 19,
   "id": "6e283596-5f17-41e8-a49d-e53aa73a5697",
   "metadata": {
    "tags": []
   },
   "outputs": [
    {
     "data": {
      "text/plain": [
       "0.6633773095149041"
      ]
     },
     "execution_count": 19,
     "metadata": {},
     "output_type": "execute_result"
    }
   ],
   "source": [
    "# Make one prediction\n",
    "learning_rate = 0.1\n",
    "neural_network = MyNeuralNetwork(learning_rate)\n",
    "\n",
    "neural_network.predict(input_vector_2)"
   ]
  },
  {
   "cell_type": "markdown",
   "id": "36344ceb-7657-4092-97ee-64e22b65bf67",
   "metadata": {},
   "source": [
    "### Training the Network With More Data"
   ]
  },
  {
   "cell_type": "code",
   "execution_count": 3,
   "id": "a101d8c0-0b48-482b-8380-82c8e425c9f2",
   "metadata": {
    "tags": []
   },
   "outputs": [],
   "source": [
    "import matplotlib.pyplot as plt"
   ]
  },
  {
   "cell_type": "code",
   "execution_count": 4,
   "id": "d7c7e0cb-eef3-40f8-8702-f939c72044e0",
   "metadata": {
    "tags": []
   },
   "outputs": [],
   "source": [
    "# Generate dummy data\n",
    "input_vectors = np.array(\n",
    "    [\n",
    "        [3, 1.5],\n",
    "        [2, 1],\n",
    "        [4, 1.5],\n",
    "        [3, 4],\n",
    "        [3.5, 0.5],\n",
    "        [2, 0.5],\n",
    "        [5.5, 1],\n",
    "        [1, 1]\n",
    "    ]\n",
    ")\n",
    "\n",
    "targets = np.array([0, 1, 0, 1, 0, 1, 1, 0])"
   ]
  },
  {
   "cell_type": "code",
   "execution_count": 7,
   "id": "c6730553-6508-45f7-ae93-f38c7a2c396e",
   "metadata": {
    "tags": []
   },
   "outputs": [],
   "source": [
    "learning_rate = 0.1\n",
    "neural_network = MyNeuralNetwork(learning_rate)\n",
    "\n",
    "training_errors = neural_network.train(input_vectors, targets, 10000)"
   ]
  },
  {
   "cell_type": "code",
   "execution_count": 8,
   "id": "979a37d9-cab7-4c46-afde-6015122b6a3e",
   "metadata": {
    "tags": []
   },
   "outputs": [
    {
     "data": {
      "image/png": "[encoded data removed]",
      "text/plain": [
       "<Figure size 640x480 with 1 Axes>"
      ]
     },
     "metadata": {},
     "output_type": "display_data"
    }
   ],
   "source": [
    "plt.plot(training_errors)\n",
    "plt.xlabel(\"Iterations\")\n",
    "plt.ylabel(\"Cumulative error for all training instances\")\n",
    "plt.savefig(\"cumulative_errors.png\")"
   ]
  },
  {
   "cell_type": "code",
   "execution_count": null,
   "id": "cfbe1612-20d9-4965-abcd-0ecca4bc7442",
   "metadata": {},
   "outputs": [],
   "source": []
  }
 ],
 "metadata": {
  "kernelspec": {
   "display_name": "Python 3 (ipykernel)",
   "language": "python",
   "name": "python3"
  },
  "language_info": {
   "codemirror_mode": {
    "name": "ipython",
    "version": 3
   },
   "file_extension": ".py",
   "mimetype": "text/x-python",
   "name": "python",
   "nbconvert_exporter": "python",
   "pygments_lexer": "ipython3",
   "version": "3.11.5"
  }
 },
 "nbformat": 4,
 "nbformat_minor": 5
}

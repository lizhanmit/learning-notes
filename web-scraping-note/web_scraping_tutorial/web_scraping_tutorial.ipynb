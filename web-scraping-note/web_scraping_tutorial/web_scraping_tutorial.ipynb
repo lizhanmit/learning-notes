{
 "cells": [
  {
   "cell_type": "markdown",
   "id": "db020dcb-b59b-418f-bad5-27d55d208a4c",
   "metadata": {},
   "source": [
    "# Web Scraping Tutorial\n",
    "\n",
    "[A Practical Introduction to Web Scraping in Python](https://realpython.com/python-web-scraping-practical-introduction/)\n",
    "\n",
    "## Scrape and Parse Text From Websites"
   ]
  },
  {
   "cell_type": "code",
   "execution_count": 1,
   "id": "b3561d51-879b-4fd9-aebd-439a9cca0644",
   "metadata": {
    "tags": []
   },
   "outputs": [],
   "source": [
    "from urllib.request import urlopen"
   ]
  },
  {
   "cell_type": "code",
   "execution_count": 3,
   "id": "87d5aade-d0a1-4887-8191-50b4c8e1f368",
   "metadata": {
    "tags": []
   },
   "outputs": [
    {
     "name": "stdout",
     "output_type": "stream",
     "text": [
      "<html>\n",
      "<head>\n",
      "<title>Profile: Aphrodite</title>\n",
      "</head>\n",
      "<body bgcolor=\"yellow\">\n",
      "<center>\n",
      "<br><br>\n",
      "<img src=\"/static/aphrodite.gif\" />\n",
      "<h2>Name: Aphrodite</h2>\n",
      "<br><br>\n",
      "Favorite animal: Dove\n",
      "<br><br>\n",
      "Favorite color: Red\n",
      "<br><br>\n",
      "Hometown: Mount Olympus\n",
      "</center>\n",
      "</body>\n",
      "</html>\n",
      "\n"
     ]
    }
   ],
   "source": [
    "url = \"http://olympus.realpython.org/profiles/aphrodite\"\n",
    "page = urlopen(url)\n",
    "html_bytes = page.read()\n",
    "html = html_bytes.decode(\"utf-8\")\n",
    "\n",
    "print(html)"
   ]
  },
  {
   "cell_type": "code",
   "execution_count": 4,
   "id": "4a550682-5970-4886-9a24-f421999928a7",
   "metadata": {
    "tags": []
   },
   "outputs": [
    {
     "data": {
      "text/plain": [
       "'Profile: Aphrodite'"
      ]
     },
     "execution_count": 4,
     "metadata": {},
     "output_type": "execute_result"
    }
   ],
   "source": [
    "title_index = html.find(\"<title>\")\n",
    "start_index = title_index + len(\"<title>\")\n",
    "end_index = html.find(\"</title>\")\n",
    "title = html[start_index:end_index]\n",
    "title"
   ]
  },
  {
   "cell_type": "markdown",
   "id": "7de6b732-5570-4096-87f8-d003138683af",
   "metadata": {},
   "source": [
    "**As HTML code is not always clean and tidy, the above way of using String match method is not reliable.** \n",
    "\n",
    "Therefore, turn to using regex. "
   ]
  },
  {
   "cell_type": "code",
   "execution_count": 2,
   "id": "30ec7a11-44f9-467b-ade0-fc43a516a200",
   "metadata": {},
   "outputs": [],
   "source": [
    "import re\n",
    "from urllib.request import urlopen"
   ]
  },
  {
   "cell_type": "code",
   "execution_count": 3,
   "id": "c98e4d60-9868-4829-b488-6aae5d756a80",
   "metadata": {},
   "outputs": [
    {
     "name": "stdout",
     "output_type": "stream",
     "text": [
      "Profile: Dionysus\n"
     ]
    }
   ],
   "source": [
    "url = \"http://olympus.realpython.org/profiles/dionysus\"\n",
    "page = urlopen(url)\n",
    "html = page.read().decode(\"utf-8\")\n",
    "\n",
    "pattern = \"<title.*?>.*?</title.*?>\"\n",
    "match_results = re.search(pattern, html, re.IGNORECASE)\n",
    "title = match_results.group()\n",
    "title = re.sub(\"<.*?>\", \"\", title) # remove HTML tags\n",
    "\n",
    "print(title)"
   ]
  },
  {
   "cell_type": "markdown",
   "id": "621fcbf0-6ec4-4e75-9211-e34a1478c358",
   "metadata": {
    "tags": []
   },
   "source": [
    "## Use an HTML Parser for Web Scraping in Python"
   ]
  },
  {
   "cell_type": "code",
   "execution_count": 12,
   "id": "c6ef91a6-8ba1-4b1e-8427-bb09a3dffeb3",
   "metadata": {
    "tags": []
   },
   "outputs": [],
   "source": [
    "from bs4 import BeautifulSoup\n",
    "from urllib.request import urlopen"
   ]
  },
  {
   "cell_type": "code",
   "execution_count": 13,
   "id": "f08620c1-eaea-446a-87a3-99704b6254a0",
   "metadata": {
    "tags": []
   },
   "outputs": [],
   "source": [
    "url = \"http://olympus.realpython.org/profiles/dionysus\"\n",
    "page = urlopen(url)\n",
    "html = page.read().decode(\"utf-8\")\n",
    "\n",
    "soup = BeautifulSoup(html, \"html.parser\")"
   ]
  },
  {
   "cell_type": "code",
   "execution_count": 16,
   "id": "3b992851-68dc-44d1-8d3a-72b41b994910",
   "metadata": {
    "tags": []
   },
   "outputs": [
    {
     "name": "stdout",
     "output_type": "stream",
     "text": [
      "\n",
      "\n",
      "Profile: Dionysus\n",
      "\n",
      "\n",
      "\n",
      "\n",
      "\n",
      "Name: Dionysus\n",
      "\n",
      "Hometown: Mount Olympus\n",
      "\n",
      "Favorite animal: Leopard \n",
      "\n",
      "Favorite Color: Wine\n",
      "\n",
      "\n",
      "\n",
      "\n"
     ]
    }
   ],
   "source": [
    "print(soup.get_text()) # extract all the text from the document and automatically remove any HTML tags"
   ]
  },
  {
   "cell_type": "code",
   "execution_count": 17,
   "id": "b3c9ca7d-b338-4d04-9e84-0ca66d583302",
   "metadata": {
    "tags": []
   },
   "outputs": [
    {
     "data": {
      "text/plain": [
       "[<img src=\"/static/dionysus.jpg\"/>, <img src=\"/static/grapes.png\"/>]"
      ]
     },
     "execution_count": 17,
     "metadata": {},
     "output_type": "execute_result"
    }
   ],
   "source": [
    "soup.find_all(\"img\")"
   ]
  },
  {
   "cell_type": "code",
   "execution_count": 20,
   "id": "b94ad490-d0d9-4d4b-afc0-d3e22b1eec5c",
   "metadata": {
    "tags": []
   },
   "outputs": [],
   "source": [
    "# image1 and image2 are tag objects\n",
    "image1, image2 = soup.find_all(\"img\") "
   ]
  },
  {
   "cell_type": "code",
   "execution_count": 21,
   "id": "2623dada-85b9-4756-ba9a-fa909e8f6217",
   "metadata": {
    "tags": []
   },
   "outputs": [
    {
     "data": {
      "text/plain": [
       "'img'"
      ]
     },
     "execution_count": 21,
     "metadata": {},
     "output_type": "execute_result"
    }
   ],
   "source": [
    "image1.name # property"
   ]
  },
  {
   "cell_type": "code",
   "execution_count": 22,
   "id": "08d18fd0-803c-41ce-a099-392baa00f41e",
   "metadata": {
    "tags": []
   },
   "outputs": [
    {
     "data": {
      "text/plain": [
       "'/static/dionysus.jpg'"
      ]
     },
     "execution_count": 22,
     "metadata": {},
     "output_type": "execute_result"
    }
   ],
   "source": [
    "image1[\"src\"] # attribute"
   ]
  },
  {
   "cell_type": "code",
   "execution_count": 23,
   "id": "a1185958-b780-42c5-994c-7a14d92999e2",
   "metadata": {
    "tags": []
   },
   "outputs": [
    {
     "data": {
      "text/plain": [
       "<title>Profile: Dionysus</title>"
      ]
     },
     "execution_count": 23,
     "metadata": {},
     "output_type": "execute_result"
    }
   ],
   "source": [
    "soup.title"
   ]
  },
  {
   "cell_type": "code",
   "execution_count": 25,
   "id": "1108f065-707d-4ea0-a2e8-a4c7ce3d71d7",
   "metadata": {
    "tags": []
   },
   "outputs": [
    {
     "data": {
      "text/plain": [
       "'Profile: Dionysus'"
      ]
     },
     "execution_count": 25,
     "metadata": {},
     "output_type": "execute_result"
    }
   ],
   "source": [
    "soup.title.string"
   ]
  },
  {
   "cell_type": "code",
   "execution_count": 26,
   "id": "95aa5643-16ed-489a-89a6-d6c1829a0610",
   "metadata": {
    "tags": []
   },
   "outputs": [
    {
     "data": {
      "text/plain": [
       "[<img src=\"/static/dionysus.jpg\"/>]"
      ]
     },
     "execution_count": 26,
     "metadata": {},
     "output_type": "execute_result"
    }
   ],
   "source": [
    "soup.find_all(\"img\", src=\"/static/dionysus.jpg\")"
   ]
  },
  {
   "cell_type": "markdown",
   "id": "64d5b31d-cede-4ad4-a766-c7dca38a9b93",
   "metadata": {},
   "source": [
    "## Interact With HTML Forms"
   ]
  },
  {
   "cell_type": "code",
   "execution_count": 1,
   "id": "4aa6be19-2f13-4fef-a50b-2c9cda889176",
   "metadata": {
    "tags": []
   },
   "outputs": [],
   "source": [
    "import mechanicalsoup"
   ]
  },
  {
   "cell_type": "code",
   "execution_count": 2,
   "id": "b03d05eb-0072-4739-94ef-a7ebe37f92e3",
   "metadata": {
    "tags": []
   },
   "outputs": [],
   "source": [
    "browser = mechanicalsoup.Browser()"
   ]
  },
  {
   "cell_type": "code",
   "execution_count": 3,
   "id": "b91d1f75-2634-46cb-bd69-1e4f920e9d3c",
   "metadata": {
    "tags": []
   },
   "outputs": [],
   "source": [
    "url = \"http://olympus.realpython.org/login\"\n",
    "page = browser.get(url)"
   ]
  },
  {
   "cell_type": "code",
   "execution_count": 31,
   "id": "77e38669-d4ed-4014-9ad6-63fc785cda05",
   "metadata": {
    "tags": []
   },
   "outputs": [
    {
     "data": {
      "text/plain": [
       "<Response [200]>"
      ]
     },
     "execution_count": 31,
     "metadata": {},
     "output_type": "execute_result"
    }
   ],
   "source": [
    "page"
   ]
  },
  {
   "cell_type": "code",
   "execution_count": 33,
   "id": "f5829aca-b02e-42ac-b83b-14d8770ad00e",
   "metadata": {
    "tags": []
   },
   "outputs": [
    {
     "data": {
      "text/plain": [
       "bs4.BeautifulSoup"
      ]
     },
     "execution_count": 33,
     "metadata": {},
     "output_type": "execute_result"
    }
   ],
   "source": [
    "type(page.soup)"
   ]
  },
  {
   "cell_type": "code",
   "execution_count": 34,
   "id": "6e827ad2-cdc3-4aa4-b1d8-9c8e9f396cd5",
   "metadata": {
    "tags": []
   },
   "outputs": [
    {
     "data": {
      "text/plain": [
       "<html>\n",
       "<head>\n",
       "<title>Log In</title>\n",
       "</head>\n",
       "<body bgcolor=\"yellow\">\n",
       "<center>\n",
       "<br/><br/>\n",
       "<h2>Please log in to access Mount Olympus:</h2>\n",
       "<br/><br/>\n",
       "<form action=\"/login\" method=\"post\" name=\"login\">\n",
       "Username: <input name=\"user\" type=\"text\"/><br/>\n",
       "Password: <input name=\"pwd\" type=\"password\"/><br/><br/>\n",
       "<input type=\"submit\" value=\"Submit\"/>\n",
       "</form>\n",
       "</center>\n",
       "</body>\n",
       "</html>"
      ]
     },
     "execution_count": 34,
     "metadata": {},
     "output_type": "execute_result"
    }
   ],
   "source": [
    "page.soup"
   ]
  },
  {
   "cell_type": "code",
   "execution_count": 4,
   "id": "28968eb7-38a0-4056-b8c1-47a0d6a2fa41",
   "metadata": {
    "tags": []
   },
   "outputs": [],
   "source": [
    "login_html = page.soup\n",
    "\n",
    "form = login_html.select(\"form\")[0]\n",
    "form.select(\"input\")[0][\"value\"] = \"zeus\"\n",
    "form.select(\"input\")[1][\"value\"] = \"ThunderDude\"\n",
    "\n",
    "profiles_page = browser.submit(form, page.url)"
   ]
  },
  {
   "cell_type": "code",
   "execution_count": 5,
   "id": "dd62ddea-583e-46d1-b9d2-532ffb968d8f",
   "metadata": {
    "tags": []
   },
   "outputs": [
    {
     "data": {
      "text/plain": [
       "'http://olympus.realpython.org/profiles'"
      ]
     },
     "execution_count": 5,
     "metadata": {},
     "output_type": "execute_result"
    }
   ],
   "source": [
    "profiles_page.url"
   ]
  },
  {
   "cell_type": "code",
   "execution_count": 43,
   "id": "5110f84e-6d72-45d5-b8bf-5a9bbc0111a0",
   "metadata": {
    "tags": []
   },
   "outputs": [
    {
     "name": "stdout",
     "output_type": "stream",
     "text": [
      "Aphrodite: http://olympus.realpython.org/profiles/aphrodite\n",
      "Poseidon: http://olympus.realpython.org/profiles/poseidon\n",
      "Dionysus: http://olympus.realpython.org/profiles/dionysus\n"
     ]
    }
   ],
   "source": [
    "base_url = \"http://olympus.realpython.org\"\n",
    "\n",
    "links = profiles_page.soup.select(\"a\")\n",
    "\n",
    "for link in links: \n",
    "    address = base_url + link[\"href\"]\n",
    "    text = link.text\n",
    "    print(f\"{text}: {address}\")"
   ]
  },
  {
   "cell_type": "markdown",
   "id": "dcd2e55c-b6ed-445f-87aa-d2d1f315a89d",
   "metadata": {},
   "source": [
    "## Interact With Websites in Real Time"
   ]
  },
  {
   "cell_type": "code",
   "execution_count": 12,
   "id": "13a9fb53-d3a1-4126-b25a-460bd0dc3f0c",
   "metadata": {},
   "outputs": [],
   "source": [
    "import mechanicalsoup"
   ]
  },
  {
   "cell_type": "code",
   "execution_count": 13,
   "id": "79237804-c6f4-49ea-a6f3-9d62079df948",
   "metadata": {
    "tags": []
   },
   "outputs": [],
   "source": [
    "broswer = mechanicalsoup.Browser()\n",
    "page = broswer.get(\"http://olympus.realpython.org/dice\")"
   ]
  },
  {
   "cell_type": "code",
   "execution_count": 16,
   "id": "f470b3fc-f82e-48ea-9c41-5517d938b043",
   "metadata": {
    "tags": []
   },
   "outputs": [
    {
     "name": "stdout",
     "output_type": "stream",
     "text": [
      "The result of your dice roll is: 4\n"
     ]
    }
   ],
   "source": [
    "# use the CSS ID selector \"#\" to indicate that result is an id value\n",
    "tag = page.soup.select(\"#result\")[0]\n",
    "result = tag.text\n",
    "print(f\"The result of your dice roll is: {result}\")"
   ]
  },
  {
   "cell_type": "code",
   "execution_count": 24,
   "id": "d6382a84-3901-4bf0-b5fb-1c8d648a654e",
   "metadata": {
    "tags": []
   },
   "outputs": [],
   "source": [
    "import time"
   ]
  },
  {
   "cell_type": "code",
   "execution_count": 30,
   "id": "c654d771-85ca-4694-9b6e-35a82a12e778",
   "metadata": {
    "tags": []
   },
   "outputs": [
    {
     "name": "stdout",
     "output_type": "stream",
     "text": [
      "The result of your dice roll is: 5\n",
      "The result of your dice roll is: 3\n",
      "The result of your dice roll is: 3\n",
      "The result of your dice roll is: 6\n"
     ]
    }
   ],
   "source": [
    "# refresh the page 4 times at 10-sec interval \n",
    "for i in range (4):\n",
    "    page = broswer.get(\"http://olympus.realpython.org/dice\") # refresh the page \n",
    "    tag = page.soup.select(\"#result\")[0]\n",
    "    result = tag.text\n",
    "    print(f\"The result of your dice roll is: {result}\")\n",
    "    if (i < 3):\n",
    "        time.sleep(5)"
   ]
  }
 ],
 "metadata": {
  "kernelspec": {
   "display_name": "Python 3 (ipykernel)",
   "language": "python",
   "name": "python3"
  },
  "language_info": {
   "codemirror_mode": {
    "name": "ipython",
    "version": 3
   },
   "file_extension": ".py",
   "mimetype": "text/x-python",
   "name": "python",
   "nbconvert_exporter": "python",
   "pygments_lexer": "ipython3",
   "version": "3.11.5"
  }
 },
 "nbformat": 4,
 "nbformat_minor": 5
}
